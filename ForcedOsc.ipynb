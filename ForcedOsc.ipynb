{
 "cells": [
  {
   "cell_type": "markdown",
   "id": "77bebc26",
   "metadata": {},
   "source": [
    "Solving forced armonic oscillator:\n",
    " $$ m \\frac{d^2x}{dt^2}+kx=Asin(\\omega t)$$\n",
    " With initial condition:\n",
    " $$ x(0)=1 $$\n",
    " $$ x'(0)=0 $$\n",
    "\n"
   ]
  },
  {
   "cell_type": "code",
   "execution_count": 2,
   "id": "5664e264",
   "metadata": {},
   "outputs": [],
   "source": [
    "import sympy as smp"
   ]
  },
  {
   "cell_type": "code",
   "execution_count": 3,
   "id": "c8b64eb1",
   "metadata": {},
   "outputs": [
    {
     "data": {
      "text/latex": [
       "$\\displaystyle \\frac{d}{d t} x{\\left(t \\right)}$"
      ],
      "text/plain": [
       "Derivative(x(t), t)"
      ]
     },
     "execution_count": 3,
     "metadata": {},
     "output_type": "execute_result"
    }
   ],
   "source": [
    "m,w,k,A=smp.symbols('m omega k A',constant=True)\n",
    "t=smp.symbols('t',positive=True)\n",
    "x=smp.Function('x')(t)\n",
    "\n",
    "smp.diff(x)\n",
    "\n",
    "\n"
   ]
  },
  {
   "cell_type": "code",
   "execution_count": null,
   "id": "d8e9be39",
   "metadata": {},
   "outputs": [],
   "source": [
    "eq=m*smp.diff(smp.diff(x))+k*x-A*smp.sin(w*t)\n",
    "sols=smp.dsolve(eq,x,ics={x.subs(t,0): 1, x.diff(t).subs(t, 0): 0})\n",
    "x=sols.rhs\n",
    "\n",
    "x\n",
    "\n"
   ]
  },
  {
   "cell_type": "code",
   "execution_count": null,
   "id": "5d41a4a9",
   "metadata": {},
   "outputs": [],
   "source": [
    "x=x.subs([(A,0.1),(k,0.25),(w,0.25),(m,1)])\n",
    "\n",
    "smp.plot(x,(t,0,100))"
   ]
  }
 ],
 "metadata": {
  "kernelspec": {
   "display_name": "Python 3 (ipykernel)",
   "language": "python",
   "name": "python3"
  },
  "language_info": {
   "codemirror_mode": {
    "name": "ipython",
    "version": 3
   },
   "file_extension": ".py",
   "mimetype": "text/x-python",
   "name": "python",
   "nbconvert_exporter": "python",
   "pygments_lexer": "ipython3",
   "version": "3.8.10"
  }
 },
 "nbformat": 4,
 "nbformat_minor": 5
}
